{
 "cells": [
  {
   "cell_type": "code",
   "execution_count": 1,
   "metadata": {
    "collapsed": true
   },
   "outputs": [],
   "source": [
    "%matplotlib inline"
   ]
  },
  {
   "cell_type": "code",
   "execution_count": 2,
   "metadata": {
    "collapsed": false
   },
   "outputs": [
    {
     "name": "stderr",
     "output_type": "stream",
     "text": [
      "ERROR:cdftools:Failed to index: http://data.oceansmap.com/thredds/dodsC/EDS/HYCOM_3D_R1/hycom_3d_r1_2016062221.nc\n",
      "Traceback (most recent call last):\n",
      "  File \"/Users/lcampbell/Documents/Dev/code/cdftools/cdftools/local_index.py\", line 24, in build_index\n",
      "    self.index_nc(path)\n",
      "  File \"/Users/lcampbell/Documents/Dev/code/cdftools/cdftools/local_index.py\", line 29, in index_nc\n",
      "    with Dataset(path, 'r') as nc:\n",
      "  File \"netCDF4/_netCDF4.pyx\", line 1795, in netCDF4._netCDF4.Dataset.__init__ (netCDF4/_netCDF4.c:12271)\n",
      "RuntimeError: NetCDF: DAP server error\n",
      "ERROR:cdftools:Failed to index: http://data.oceansmap.com/thredds/dodsC/EDS/HYCOM_3D_R1/hycom_3d_r1_2016061712.nc\n",
      "Traceback (most recent call last):\n",
      "  File \"/Users/lcampbell/Documents/Dev/code/cdftools/cdftools/local_index.py\", line 24, in build_index\n",
      "    self.index_nc(path)\n",
      "  File \"/Users/lcampbell/Documents/Dev/code/cdftools/cdftools/local_index.py\", line 29, in index_nc\n",
      "    with Dataset(path, 'r') as nc:\n",
      "  File \"netCDF4/_netCDF4.pyx\", line 1795, in netCDF4._netCDF4.Dataset.__init__ (netCDF4/_netCDF4.c:12271)\n",
      "RuntimeError: NetCDF: DAP server error\n",
      "ERROR:cdftools:Failed to index: http://data.oceansmap.com/thredds/dodsC/EDS/HYCOM_3D_R1/hycom_3d_r1_2016061709.nc\n",
      "Traceback (most recent call last):\n",
      "  File \"/Users/lcampbell/Documents/Dev/code/cdftools/cdftools/local_index.py\", line 24, in build_index\n",
      "    self.index_nc(path)\n",
      "  File \"/Users/lcampbell/Documents/Dev/code/cdftools/cdftools/local_index.py\", line 29, in index_nc\n",
      "    with Dataset(path, 'r') as nc:\n",
      "  File \"netCDF4/_netCDF4.pyx\", line 1795, in netCDF4._netCDF4.Dataset.__init__ (netCDF4/_netCDF4.c:12271)\n",
      "RuntimeError: NetCDF: DAP server error\n"
     ]
    }
   ],
   "source": [
    "import arrow\n",
    "from netCDF4 import Dataset\n",
    "import glob\n",
    "import os\n",
    "import pandas as pd\n",
    "from cdftools.local_index import LocalIndex\n",
    "import json\n",
    "import matplotlib.dates as mdates\n",
    "import requests\n",
    "import numpy as np\n",
    "from cdftools import profiles as cfprofiles\n",
    "from cdftools import dap\n",
    "\n",
    "if not os.path.exists('/tmp/hycom'):\n",
    "    os.makedirs('/tmp/hycom')\n",
    "\n",
    "# Remove indexes, and start fresh\n",
    "\n",
    "for stupidfile in glob.glob('/tmp/hycom/time.*'):\n",
    "    os.remove(stupidfile)\n",
    "for stupidfile in glob.glob('/tmp/hycom/space.*'):\n",
    "    os.remove(stupidfile)\n",
    "\n",
    "# I saved the thredds catalog URLs so I wouldn't have to crawl the catalog each time.\n",
    "with open('data/urls.json', 'r') as f:\n",
    "    urls = json.load(f)\n",
    "\n",
    "# Build a spatial and temporal index of each netCDF file\n",
    "index = LocalIndex('/tmp/hycom/time', '/tmp/hycom/space')\n",
    "index.build_index(urls)"
   ]
  },
  {
   "cell_type": "code",
   "execution_count": 3,
   "metadata": {
    "collapsed": true
   },
   "outputs": [],
   "source": [
    "def get_profile(row, depthmax=None):\n",
    "    '''\n",
    "    Returns a numpy array of profile data and the timestamp of the profile\n",
    "    \n",
    "    :param row: The Pandas Row containing time, latitude and longitude\n",
    "    :param depthmax: The INDEX of the depth dimension to limit, default is None\n",
    "    '''\n",
    "    ncpath = index.get_nearest(row.time)\n",
    "    lat = float(row.latitude)\n",
    "    lon = float(row.longitude)\n",
    "    dslice = slice(0, depthmax)\n",
    "    with Dataset(ncpath) as nc:\n",
    "        i, j = dap.get_point_index(nc, lon, lat)\n",
    "        t_i, actual = dap.get_index(nc, arrow.get(row.name))\n",
    "        profile = nc.variables['water_temp'][t_i, dslice, i, j]\n",
    "        return profile, actual"
   ]
  },
  {
   "cell_type": "code",
   "execution_count": 4,
   "metadata": {
    "collapsed": false
   },
   "outputs": [],
   "source": [
    "# Get the trajectory\n",
    "\n",
    "# Unfortunately ERDDAP returns two rows in the CSV, so I need to rip out row 2\n",
    "response = requests.get('http://data.ioos.us/gliders/erddap/tabledap/ru28-20160714T1410.csv?time,latitude,longitude')\n",
    "lines = response.content.split('\\n')\n",
    "body = '\\n'.join([lines[0]] + lines[2:])\n",
    "from cStringIO import StringIO\n",
    "buf = StringIO(body)"
   ]
  },
  {
   "cell_type": "code",
   "execution_count": 5,
   "metadata": {
    "collapsed": false
   },
   "outputs": [],
   "source": [
    "table = pd.read_csv(buf)"
   ]
  },
  {
   "cell_type": "code",
   "execution_count": 6,
   "metadata": {
    "collapsed": false
   },
   "outputs": [],
   "source": [
    "# Build the profiles\n",
    "profiles = []\n",
    "dates = []\n",
    "for idx, row in table.iterrows():\n",
    "    profile, dt = get_profile(row, 10)\n",
    "    profiles.append(profile)\n",
    "    dates.append(dt)"
   ]
  },
  {
   "cell_type": "code",
   "execution_count": 7,
   "metadata": {
    "collapsed": false
   },
   "outputs": [
    {
     "data": {
      "text/plain": [
       "1570"
      ]
     },
     "execution_count": 7,
     "metadata": {},
     "output_type": "execute_result"
    }
   ],
   "source": [
    "len(profiles)"
   ]
  },
  {
   "cell_type": "code",
   "execution_count": 8,
   "metadata": {
    "collapsed": false
   },
   "outputs": [],
   "source": [
    "Z = np.vstack(profiles)"
   ]
  },
  {
   "cell_type": "code",
   "execution_count": 9,
   "metadata": {
    "collapsed": true
   },
   "outputs": [],
   "source": [
    "X = np.ones_like(Z, dtype=np.object)\n",
    "for i, timestamp in enumerate(mdates.date2num(dates)):\n",
    "    X[i, :] = timestamp"
   ]
  },
  {
   "cell_type": "code",
   "execution_count": 10,
   "metadata": {
    "collapsed": false
   },
   "outputs": [
    {
     "name": "stdout",
     "output_type": "stream",
     "text": [
      "meter\n"
     ]
    }
   ],
   "source": [
    "ncpath = index.get_nearest(table.iloc[0].time)\n",
    "\n",
    "with Dataset(ncpath) as nc:\n",
    "    depths = nc.variables['depth'][:10]\n",
    "    print nc.variables['depth'].units"
   ]
  },
  {
   "cell_type": "code",
   "execution_count": 11,
   "metadata": {
    "collapsed": false
   },
   "outputs": [],
   "source": [
    "Y = np.ones_like(Z)\n",
    "for i, ones in enumerate(Y):\n",
    "    Y[i] = depths"
   ]
  },
  {
   "cell_type": "code",
   "execution_count": 12,
   "metadata": {
    "collapsed": false
   },
   "outputs": [
    {
     "name": "stderr",
     "output_type": "stream",
     "text": [
      "/Users/lcampbell/.virtualenvs/work/lib/python2.7/site-packages/matplotlib/collections.py:590: FutureWarning: elementwise comparison failed; returning scalar instead, but in the future will perform elementwise comparison\n",
      "  if self._edgecolors == str('face'):\n"
     ]
    },
    {
     "data": {
      "image/png": "[encoded data removed]",
      "text/plain": [
       "<matplotlib.figure.Figure at 0x10b271850>"
      ]
     },
     "metadata": {},
     "output_type": "display_data"
    }
   ],
   "source": [
    "fig = cfprofiles.generate_profile_plot(X, Y, Z, cfprofiles.PARAMETERS['temperature']['cmap'], 'HYCOM Following ru28')\n",
    "fig.set_size_inches(20, 5)\n",
    "fig.savefig('/Users/lcampbell/Desktop/hycom-ru28.png', dpi=100)"
   ]
  }
 ],
 "metadata": {
  "kernelspec": {
   "display_name": "Python 2",
   "language": "python",
   "name": "python2"
  },
  "language_info": {
   "codemirror_mode": {
    "name": "ipython",
    "version": 2
   },
   "file_extension": ".py",
   "mimetype": "text/x-python",
   "name": "python",
   "nbconvert_exporter": "python",
   "pygments_lexer": "ipython2",
   "version": "2.7.10"
  }
 },
 "nbformat": 4,
 "nbformat_minor": 0
}
