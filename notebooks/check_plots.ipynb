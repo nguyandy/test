{
 "cells": [
  {
   "cell_type": "code",
   "execution_count": null,
   "metadata": {},
   "outputs": [],
   "source": [
    "import matplotlib\n",
    "matplotlib.use('Agg')\n",
    "%matplotlib inline\n",
    "from cdftools.plot_tools import OceanPlots\n",
    "import numpy as np\n",
    "\n",
    "import matplotlib.pyplot as plt\n",
    "import metpy.calc as mpcalc\n",
    "from metpy.plots import add_metpy_logo, SkewT\n",
    "from metpy.units import units"
   ]
  },
  {
   "cell_type": "code",
   "execution_count": null,
   "metadata": {},
   "outputs": [],
   "source": [
    "N = 500\n",
    "ws = np.random.random(N)*9.5\n",
    "wd = np.random.random(N)*360\n",
    "\n",
    "ws2 = np.random.random(N)*12\n",
    "wd2 = np.random.random(N)*360\n",
    "ocean_plots = OceanPlots()\n",
    "fig, ax = ocean_plots.plot_rose(ws, wd,\n",
    "                             nsector=16,\n",
    "                             title='Wind Rose',\n",
    "                             legend_title='Wind Speed (m/s)')"
   ]
  },
  {
   "cell_type": "code",
   "execution_count": null,
   "metadata": {},
   "outputs": [],
   "source": []
  },
  {
   "cell_type": "code",
   "execution_count": null,
   "metadata": {},
   "outputs": [],
   "source": [
    "pressure = np.array([1011.1295166 ,  975.9017334 ,  904.42218018,  804.57861328])\n",
    "temperature = np.array([16.17812538, 13.14687538,  7.1624999 , 10.20937538])\n",
    "dewpoint = np.array([  9.57363319,   8.36019325,   6.75466299, -20.87717247])\n",
    "windspeed = np.array([17.4500935 , 19.54003852, 17.06053773, 10.60136506])\n",
    "winddir = np.array([93.33022692, 93.87385112, 93.29558601,  5.54267083])\n",
    "lat = -38.90625\n",
    "lon = 142.03125\n",
    "\n",
    "title = \"skewT-logP at {}, {}\".format(lat, lon)\n",
    "\n",
    "fig = plt.figure(figsize=(9, 9))\n",
    "\n",
    "# data was copied from a previous test run "
   ]
  },
  {
   "cell_type": "code",
   "execution_count": null,
   "metadata": {},
   "outputs": [],
   "source": [
    "fig = ocean_plots.plot_skew_t_log_p(fig, pressure, temperature, dewpoint, windspeed, winddir, title)"
   ]
  }
 ],
 "metadata": {
  "kernelspec": {
   "display_name": "Python 3",
   "language": "python",
   "name": "python3"
  },
  "language_info": {
   "codemirror_mode": {
    "name": "ipython",
    "version": 3
   },
   "file_extension": ".py",
   "mimetype": "text/x-python",
   "name": "python",
   "nbconvert_exporter": "python",
   "pygments_lexer": "ipython3",
   "version": "3.5.2"
  }
 },
 "nbformat": 4,
 "nbformat_minor": 1
}
